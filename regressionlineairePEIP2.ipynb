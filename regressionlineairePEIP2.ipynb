{
  "nbformat": 4,
  "nbformat_minor": 0,
  "metadata": {
    "colab": {
      "name": "regressionlineairePEIP2.ipynb",
      "version": "0.3.2",
      "provenance": [],
      "collapsed_sections": [],
      "toc_visible": true
    },
    "kernelspec": {
      "name": "python3",
      "display_name": "Python 3"
    }
  },
  "cells": [
    {
      "metadata": {
        "id": "Ycb0i518SjYl",
        "colab_type": "code",
        "colab": {}
      },
      "cell_type": "code",
      "source": [
        ""
      ],
      "execution_count": 0,
      "outputs": []
    },
    {
      "metadata": {
        "id": "2gb7BtnoAyrl",
        "colab_type": "text"
      },
      "cell_type": "markdown",
      "source": [
        "# Regression linéaire au sens des moindres carrés"
      ]
    },
    {
      "metadata": {
        "id": "xOOiXlRJT9D8",
        "colab_type": "text"
      },
      "cell_type": "markdown",
      "source": [
        "\n",
        "\n",
        "\n",
        "Imaginons que nous souhaitions à partir des données ($x_i$ et $y_i$), trouver la fonction qui a permis de générer ces données.\n",
        "\n",
        "Il faut d'abord une fonction pour générer les valeurs $y_i$ à partir de $x_i$. \n",
        "\n",
        "Voir le code ci-dessous pour la création de la fonction $y=2x+3$."
      ]
    },
    {
      "metadata": {
        "id": "ql6qdG26sdGm",
        "colab_type": "code",
        "colab": {
          "base_uri": "https://localhost:8080/",
          "height": 35
        },
        "outputId": "1bf5b7c1-3b41-4424-e0af-ec41d57ed80f"
      },
      "cell_type": "code",
      "source": [
        "def mafonction(x):\n",
        "  y=2*x+3\n",
        "  return y\n",
        "\n",
        "mafonction(1)"
      ],
      "execution_count": 1,
      "outputs": [
        {
          "output_type": "execute_result",
          "data": {
            "text/plain": [
              "5"
            ]
          },
          "metadata": {
            "tags": []
          },
          "execution_count": 1
        }
      ]
    },
    {
      "metadata": {
        "id": "lXOhlG_LAQs6",
        "colab_type": "text"
      },
      "cell_type": "markdown",
      "source": [
        "Ensuite, il nous suffit de créer les $x_i$. Nous allosn en créer $M=10$."
      ]
    },
    {
      "metadata": {
        "id": "fHOL3SnZtBm0",
        "colab_type": "code",
        "colab": {
          "base_uri": "https://localhost:8080/",
          "height": 199
        },
        "outputId": "cbf7ad40-ce3b-4d1b-b360-69e671e2f43e"
      },
      "cell_type": "code",
      "source": [
        "import numpy as np\n",
        "M=10 #nombres d'échantillons ou d'individus ou variables explicatives\n",
        "X=np.zeros((M,1)) # les échantillons ou individus ou variables explicatives\n",
        "for i in range(0,M):\n",
        "           X[i,0]=i\n",
        "print(X)\n",
        "\n"
      ],
      "execution_count": 2,
      "outputs": [
        {
          "output_type": "stream",
          "text": [
            "[[0.]\n",
            " [1.]\n",
            " [2.]\n",
            " [3.]\n",
            " [4.]\n",
            " [5.]\n",
            " [6.]\n",
            " [7.]\n",
            " [8.]\n",
            " [9.]]\n"
          ],
          "name": "stdout"
        }
      ]
    },
    {
      "metadata": {
        "id": "MQp-b1KNAd9V",
        "colab_type": "text"
      },
      "cell_type": "markdown",
      "source": [
        "Finalement, nous créons les $y_i$ associés aux $x_i$."
      ]
    },
    {
      "metadata": {
        "id": "dKCt7fpCutrb",
        "colab_type": "code",
        "colab": {
          "base_uri": "https://localhost:8080/",
          "height": 199
        },
        "outputId": "8d894d00-eb66-4b4f-bcf4-0a67388a39fc"
      },
      "cell_type": "code",
      "source": [
        "Y=np.zeros((M,1)) # les prédictions ou variables expliquées\n",
        "for i in range(0,M):\n",
        "           Y[i,0]=mafonction(i)\n",
        "print(Y)"
      ],
      "execution_count": 3,
      "outputs": [
        {
          "output_type": "stream",
          "text": [
            "[[ 3.]\n",
            " [ 5.]\n",
            " [ 7.]\n",
            " [ 9.]\n",
            " [11.]\n",
            " [13.]\n",
            " [15.]\n",
            " [17.]\n",
            " [19.]\n",
            " [21.]]\n"
          ],
          "name": "stdout"
        }
      ]
    },
    {
      "metadata": {
        "id": "Zm8hbMLuBLm8",
        "colab_type": "text"
      },
      "cell_type": "markdown",
      "source": [
        "Nous pouvons affichier $Y=f(X)$"
      ]
    },
    {
      "metadata": {
        "id": "ydnxzIF5ueih",
        "colab_type": "code",
        "colab": {
          "base_uri": "https://localhost:8080/",
          "height": 365
        },
        "outputId": "da839238-5da5-436e-81ba-56bfae6ed4d9"
      },
      "cell_type": "code",
      "source": [
        "import matplotlib.pyplot as plt\n",
        "\n",
        "plt.plot(X,Y)"
      ],
      "execution_count": 4,
      "outputs": [
        {
          "output_type": "execute_result",
          "data": {
            "text/plain": [
              "[<matplotlib.lines.Line2D at 0x7fb8682c7208>]"
            ]
          },
          "metadata": {
            "tags": []
          },
          "execution_count": 4
        },
        {
          "output_type": "display_data",
          "data": {
            "image/png": "[encoded data removed]",
            "text/plain": [
              "<matplotlib.figure.Figure at 0x7fb8682fd390>"
            ]
          },
          "metadata": {
            "tags": []
          }
        }
      ]
    },
    {
      "metadata": {
        "id": "hJnuT8iMvTLg",
        "colab_type": "text"
      },
      "cell_type": "markdown",
      "source": [
        "On veut, à partir des echantillons X et Y, trouver le coefficient directeur (a) et l'ordonnée à l'origine (b) de la droite liant ces 2 variables. \n",
        "\n",
        "On veut trouver $\\widehat{Y_{i,0}}=a \\times X_{i,0} + b$.\n",
        "\n",
        "A la place de $a$ et $b$, nous utiliserons $W_0$ et $W_1$:\n",
        "\n",
        "$$\\widehat{Y_{i,0}}=W_0 \\times X_{i,0} + W_1$$\n",
        "\n",
        "\n",
        "Pour des raisons d'écriture et faciliter les calculs par la suite, nous allons considérer que l'ordonnée à l'origine dépend des données (X) mais nous imposerons que X_{i,1} soit toujours 1 (voir ci-dessous) :\n",
        "$$\\widehat{Y_{i,0}}=W_0 \\times X_{i,0} + 1 \\times W_1=W_0 \\times X_{i,0} + X_{i,1} \\times W_1$$\n"
      ]
    },
    {
      "metadata": {
        "id": "wxPy_jlFzIWm",
        "colab_type": "code",
        "colab": {
          "base_uri": "https://localhost:8080/",
          "height": 199
        },
        "outputId": "535e9657-c12d-4674-c832-c09c4c2029c0"
      },
      "cell_type": "code",
      "source": [
        "X=np.zeros((M,2)) # les échantillons ont maintenant 2 colonnes\n",
        "for i in range(0,M):\n",
        "           X[i,0]=i \n",
        "           X[i,1]=1 #toujours 1\n",
        "print(X)"
      ],
      "execution_count": 5,
      "outputs": [
        {
          "output_type": "stream",
          "text": [
            "[[0. 1.]\n",
            " [1. 1.]\n",
            " [2. 1.]\n",
            " [3. 1.]\n",
            " [4. 1.]\n",
            " [5. 1.]\n",
            " [6. 1.]\n",
            " [7. 1.]\n",
            " [8. 1.]\n",
            " [9. 1.]]\n"
          ],
          "name": "stdout"
        }
      ]
    },
    {
      "metadata": {
        "id": "1XNMM7q47w8I",
        "colab_type": "text"
      },
      "cell_type": "markdown",
      "source": [
        "La prédiction $\\widehat{Y_{i,0}}$ peut maintenant s'écrire comme le produit scalaire du vecteur $X_i$ et $W$\n",
        "\n",
        "$$\\widehat{Y_{i,0}}=W_0 \\times X_{i,0} + X_{i,1} \\times W_1=X_i.W$$\n"
      ]
    },
    {
      "metadata": {
        "id": "z02jy3z2Bill",
        "colab_type": "text"
      },
      "cell_type": "markdown",
      "source": [
        "# Le problème"
      ]
    },
    {
      "metadata": {
        "id": "dAlQXte9hun1",
        "colab_type": "text"
      },
      "cell_type": "markdown",
      "source": [
        "Le problème est donc de trouver $W_0$ et $W_1$ tel que la prédiction ($\\widehat{Y_{i,0}}$) soit proche de la valeur désirée ($Y_{i,0}$). Autrement dit, il faut minimiser l'écart (ou l'erreur) entre $\\widehat{Y_{i,0}}$ et $Y_{i,0}$.\n",
        "\n",
        "---\n",
        "\n",
        "**Le problème : **\n",
        "$$ \\min_W \\dfrac{1}{2}L(X,Y;W)$$\n",
        "\n",
        "Avec L : \n",
        "$$L(X,Y;W)=\\sum_i^M (Y_i- \\widehat{Y}_i)^2$$\n",
        "La fonction $L$ consiste à calculer la somme des erreurs au carrè. \n",
        "\n",
        "Cela peut se ré-écrire à l'aide de la norme L2 élevée au carré.\n",
        "$$L(X,Y;W)=||Y-\\widehat{Y}||^2_2$$\n",
        "\n",
        "$$L(X,Y;W)=||Y-XW||^2_2=(Y-XW)^2=(Y-XW)^T(Y-XW)$$\n",
        "On développe L :\n",
        "$$L(X,Y;W)=Y^TY-W^TX^TY-Y^TXW+W^TX^TXW$$\n",
        "$$L(X,Y;W)=Y^TY-2W^TX^TY+W^TX^TXW$$\n",
        "\n",
        "\n",
        "Pourquoi $\\dfrac{1}{2}$ devant L dans le problème ?\n",
        "\n",
        "\n",
        "Cela va simplifier les calculs par la suite. Par forcément ici mais par la suite ... \n",
        "\n"
      ]
    },
    {
      "metadata": {
        "id": "fwx1Wi6fBrlF",
        "colab_type": "text"
      },
      "cell_type": "markdown",
      "source": [
        "# Résolution  Analytique\n",
        "\n",
        "On veut trouver W qui minimise la fonction L alors on dérive et l'on trouve où la dérivée s'annule.\n",
        "$$\\dfrac{\\partial L}{\\partial W} = 0 $$ \n",
        "**Dérivée partielle de L**\n",
        "\n",
        "La dérivée partielle de L est simple il s'agit de dériver un polynome de degré 2.\n",
        "$$\\dfrac{\\partial L}{\\partial W} = -2X^TY+2X^TXW $$ \n",
        "Comme on a multiplié par $\\dfrac{1}{2}$ alors on peut écrire :\n",
        "$$\\dfrac{\\partial L}{\\partial W} = -X^TY+X^TXW $$ \n",
        "$$\\dfrac{\\partial L}{\\partial W} = X^T(XW-Y) $$ \n",
        "\n",
        "**Trouver W**\n",
        "$$\\dfrac{\\partial L}{\\partial W} = 0 $$ \n",
        "$$\\dfrac{\\partial L}{\\partial W} = -X^TY+X^TXW =0$$ \n",
        "\n",
        "\n",
        "```\n",
        "Résultat : \n",
        "```\n",
        "$$W=(X^TX)^{-1}X^TY$$\n",
        "\n",
        "\n",
        "Maintenant on peut calculer W en python :\n"
      ]
    },
    {
      "metadata": {
        "id": "0f0EieVMB3GS",
        "colab_type": "text"
      },
      "cell_type": "markdown",
      "source": [
        "# Implémentation"
      ]
    },
    {
      "metadata": {
        "id": "y3tg7-Ku6-Aa",
        "colab_type": "code",
        "colab": {
          "base_uri": "https://localhost:8080/",
          "height": 54
        },
        "outputId": "fd301edf-1604-46f3-ef7b-484d13f17ffa"
      },
      "cell_type": "code",
      "source": [
        "#On calcule W\n",
        "XT= X.transpose() #Transposé de X\n",
        "prodX =XT.dot(X) #Produit matriciel\n",
        "invprodX=np.linalg.inv(prodX) #inversion de matrice\n",
        "prodxx=invprodX.dot(XT)\n",
        "W =prodxx.dot(Y)\n",
        "print(W)\n"
      ],
      "execution_count": 6,
      "outputs": [
        {
          "output_type": "stream",
          "text": [
            "[[2.]\n",
            " [3.]]\n"
          ],
          "name": "stdout"
        }
      ]
    },
    {
      "metadata": {
        "id": "78BUp-MV8clH",
        "colab_type": "text"
      },
      "cell_type": "markdown",
      "source": [
        "On peut maintenant calculer la prédiction ($\\widehat{Y}$):\n",
        "$$\\widehat{Y_{i,0}}=X_{i,0}.W$$\n",
        "Le vecteur de prédictions pour tous les echantillons s'écrit:\n",
        "$$\\widehat{Y}=X.W$$\n",
        "\n"
      ]
    },
    {
      "metadata": {
        "id": "5kdDDquz9aL3",
        "colab_type": "text"
      },
      "cell_type": "markdown",
      "source": [
        ""
      ]
    },
    {
      "metadata": {
        "id": "yvJ2ij028Y36",
        "colab_type": "code",
        "colab": {
          "base_uri": "https://localhost:8080/",
          "height": 199
        },
        "outputId": "c3f77ffe-efa3-467a-eed7-3eac78c38869"
      },
      "cell_type": "code",
      "source": [
        "Ypred=X.dot(W)\n",
        "print(Ypred)"
      ],
      "execution_count": 7,
      "outputs": [
        {
          "output_type": "stream",
          "text": [
            "[[ 3.]\n",
            " [ 5.]\n",
            " [ 7.]\n",
            " [ 9.]\n",
            " [11.]\n",
            " [13.]\n",
            " [15.]\n",
            " [17.]\n",
            " [19.]\n",
            " [21.]]\n"
          ],
          "name": "stdout"
        }
      ]
    },
    {
      "metadata": {
        "id": "NajzPA3a9ngL",
        "colab_type": "text"
      },
      "cell_type": "markdown",
      "source": [
        "On peut calculer l'erreur entre la valeur réelle et la prédiction:\n",
        "$$L(X,Y;W)=\\dfrac{1}{2}\\sum_i^M (Y_i- \\widehat{Y}_i)^2$$\n",
        "$$L(X,Y;W)=\\dfrac{1}{2}||Y-\\widehat{Y}||^2_2$$\n"
      ]
    },
    {
      "metadata": {
        "id": "MIPgwixs-ChD",
        "colab_type": "code",
        "colab": {
          "base_uri": "https://localhost:8080/",
          "height": 35
        },
        "outputId": "1704f3d2-2c36-4254-ce63-9969b9982474"
      },
      "cell_type": "code",
      "source": [
        "vecerreur=Y-Ypred #vecteur d'erreurs\n",
        "normeL2=np.linalg.norm(vecerreur,2) #norme du vecteur\n",
        "erreur=0.5*(normeL2**2) # exponentiation au carré\n",
        "print(erreur)\n"
      ],
      "execution_count": 8,
      "outputs": [
        {
          "output_type": "stream",
          "text": [
            "0.0\n"
          ],
          "name": "stdout"
        }
      ]
    },
    {
      "metadata": {
        "id": "Ciwr3Yoj7zGX",
        "colab_type": "text"
      },
      "cell_type": "markdown",
      "source": [
        "On peut maintenant afficher $Y$ et $\\widehat{Y}$:"
      ]
    },
    {
      "metadata": {
        "id": "HH4qxp3r-x6B",
        "colab_type": "code",
        "colab": {
          "base_uri": "https://localhost:8080/",
          "height": 365
        },
        "outputId": "3d1fc4ac-070c-40b9-ae33-d830221e4efd"
      },
      "cell_type": "code",
      "source": [
        "plt.plot(X[:,0],Y,'red')\n",
        "plt.plot(X[:,0],Ypred,'blue')"
      ],
      "execution_count": 9,
      "outputs": [
        {
          "output_type": "execute_result",
          "data": {
            "text/plain": [
              "[<matplotlib.lines.Line2D at 0x7fb866283438>]"
            ]
          },
          "metadata": {
            "tags": []
          },
          "execution_count": 9
        },
        {
          "output_type": "display_data",
          "data": {
            "image/png": "[encoded data removed]",
            "text/plain": [
              "<matplotlib.figure.Figure at 0x7fb866283668>"
            ]
          },
          "metadata": {
            "tags": []
          }
        }
      ]
    },
    {
      "metadata": {
        "id": "jgXpdEGoMfpV",
        "colab_type": "text"
      },
      "cell_type": "markdown",
      "source": [
        "# Conclusion\n",
        "Voilà, nous avons construit une fonction mathématique qui modélise les données d'entrées (X et Y). \n",
        "\n",
        "Nous avons trouvé \n",
        "$$W_0=2 \\text{ et } W_1=3$$\n",
        "Nous avons retrouvé la fonction 2x+3 qui nous avait servi à générer nos données. \n",
        "\n",
        "**Ce qu'il fallait démontrer**"
      ]
    },
    {
      "metadata": {
        "id": "CfdfdjMd_KiK",
        "colab_type": "text"
      },
      "cell_type": "markdown",
      "source": [
        "# A faire par les étudiants\n",
        "Remplacer la fonction \"mafonction\" par la fonction mathématique $2x+3+Random$ et recalculer $W$ et l'erreur.\n",
        "Remplacer la fonction \"mafonction\" par la fonction mathématique $2x^2+3$ et recalculer $W$ et l'erreur. Conclure sur la limite du modèle linéaire.\n"
      ]
    },
    {
      "metadata": {
        "id": "uCPhnNY0sXvO",
        "colab_type": "code",
        "colab": {}
      },
      "cell_type": "code",
      "source": [
        "#à faire par les étudiants"
      ],
      "execution_count": 0,
      "outputs": []
    },
    {
      "metadata": {
        "id": "kVvKDk16CZGS",
        "colab_type": "text"
      },
      "cell_type": "markdown",
      "source": [
        "# Résolution itérative\n",
        "La résolution analytique peut être délicate parfois car elle impose d'inverser la matrice X qui peut être de grande taille.\n",
        "\n",
        "\n",
        "Une résolution approchée peut être interessante.\n",
        "\n",
        "Nous allons voir la résolution par descente de gradient.\n",
        "\n",
        "Un gradient n'est rien d'autre qu'une dérivée à plusieurs dimensions, nous avions calculué le gradient de notre fonction d'erreur ($L$) par rapport à $W$ :\n",
        "\n",
        "$$\\dfrac{\\partial L}{\\partial W} = X^T(XW-Y) $$ \n",
        "L'algorithme de la descente de gradient cherche à diminiuer le gradient progressivement jusqu'à trouver où le gradient s'annule. Pour diminiuer le gradient il suffit de modifier $W$ dans le sens opposé du gradient.\n",
        "$$W^{t+1}=W^{t}-\\alpha. \\dfrac{\\partial L}{\\partial W}$$\n",
        "\n",
        "$W^{t+1}$ est la nouvelle valeur de $W$\n",
        "\n",
        "$\\alpha$ appelé pas de gradient ou pas d'apprentissage, est un réel représentant la vitesse à la quelle l'algorithme descend la pente du gradient (par exemple : $\\alpha$=0.001)\n",
        "\n"
      ]
    },
    {
      "metadata": {
        "id": "rQKgUVLU8SDg",
        "colab_type": "text"
      },
      "cell_type": "markdown",
      "source": [
        "# Algorithme de la descente de gradient\n",
        "\n",
        "[texte du lien](https://www.overleaf.com/15483446nvydjgtwbngg#/58736810/)\n",
        "\n",
        "![title](http://romain.raveaux.free.fr/gradientdescentematrix.PNG)\n",
        "\n",
        "\n"
      ]
    },
    {
      "metadata": {
        "id": "1rqG7Ivb8wyg",
        "colab_type": "code",
        "colab": {
          "base_uri": "https://localhost:8080/",
          "height": 381
        },
        "outputId": "f6316687-5ac7-4291-c658-d32699259419"
      },
      "cell_type": "code",
      "source": [
        "\n",
        "nbiter=20\n",
        "alpha=0.001\n",
        "W=np.zeros((2,1))\n",
        "for t in range(0,nbiter):\n",
        "  ecart=X.dot(W)-Y\n",
        "  normeL2=np.linalg.norm(ecart,2) #norme du vecteur\n",
        "  erreur=0.5*(normeL2**2) # exponentiation au carré\n",
        "  print(erreur)\n",
        "  XT=X.transpose()\n",
        "  gradW=XT.dot(ecart) #calcul du grdient\n",
        "  W=W-(alpha*gradW)# mise à jour des poids\n",
        "  \n"
      ],
      "execution_count": 11,
      "outputs": [
        {
          "output_type": "stream",
          "text": [
            "884.9999999999997\n",
            "448.2800625000001\n",
            "229.44959485781254\n",
            "119.78502295311817\n",
            "64.81428040396605\n",
            "37.24608206917567\n",
            "23.407102930512803\n",
            "16.44681074870201\n",
            "12.932990045358762\n",
            "11.146050929990766\n",
            "10.22445342895388\n",
            "9.736552852818027\n",
            "9.466088202287109\n",
            "9.304708791775882\n",
            "9.198128550802515\n",
            "9.119148558904447\n",
            "9.054140949796151\n",
            "8.9962771540303\n",
            "8.942135151701102\n",
            "8.889999657502557\n"
          ],
          "name": "stdout"
        }
      ]
    },
    {
      "metadata": {
        "id": "ljvhN4uTJhNQ",
        "colab_type": "code",
        "colab": {
          "base_uri": "https://localhost:8080/",
          "height": 420
        },
        "outputId": "edf731e5-9472-463b-a167-e822f26f11f9"
      },
      "cell_type": "code",
      "source": [
        "print(W)\n",
        "Ypred=X.dot(W)\n",
        "vecerreur=Y-Ypred #vecteur d'erreurs\n",
        "normeL2=np.linalg.norm(vecerreur,2) #norme du vecteur\n",
        "erreur=0.5*(normeL2**2) # exponentiation au carré\n",
        "print(erreur)\n",
        "plt.plot(X[:,0],Y,'red')\n",
        "plt.plot(X[:,0],Ypred,'blue')"
      ],
      "execution_count": 12,
      "outputs": [
        {
          "output_type": "stream",
          "text": [
            "[[2.39162151]\n",
            " [0.52881606]]\n",
            "8.839010489107693\n"
          ],
          "name": "stdout"
        },
        {
          "output_type": "execute_result",
          "data": {
            "text/plain": [
              "[<matplotlib.lines.Line2D at 0x7fb8662689b0>]"
            ]
          },
          "metadata": {
            "tags": []
          },
          "execution_count": 12
        },
        {
          "output_type": "display_data",
          "data": {
            "image/png": "[encoded data removed]",
            "text/plain": [
              "<matplotlib.figure.Figure at 0x7fb866268c18>"
            ]
          },
          "metadata": {
            "tags": []
          }
        }
      ]
    },
    {
      "metadata": {
        "id": "Ymp0N6_xN2AS",
        "colab_type": "text"
      },
      "cell_type": "markdown",
      "source": [
        "# A faire par les étudiants\n",
        "Jouer avec $\\alpha$ et $nbiter$ et regarder l'impact sur l'erreur"
      ]
    },
    {
      "metadata": {
        "id": "sty0B9AqX4Ju",
        "colab_type": "text"
      },
      "cell_type": "markdown",
      "source": [
        "# Facultatif : Version non matricielle de  l'algorithme de la descente de gradient\n",
        "\n",
        "![Texte alternatif…](http://romain.raveaux.free.fr/gradientdescenteneurone.PNG)\n",
        "  "
      ]
    },
    {
      "metadata": {
        "id": "jdimR0Wk4GgL",
        "colab_type": "code",
        "colab": {}
      },
      "cell_type": "code",
      "source": [
        "from random import *\n",
        "\n",
        "def erreur (pred, y):\n",
        "    return ((y-pred)**2)*0.5\n",
        "\n",
        "def derivpartielle (prediction,y,z,x):\n",
        "    return -1*(y-prediction)*x\n",
        "\n",
        "\n",
        "def gradient (X,Y,W,pas,nbiter,M) :\n",
        "    \n",
        "    indexes = [i for i in range (0,M)]  # create a list of indexes\n",
        "    shuffle(indexes)\n",
        "    for t in range (0,nbiter):\n",
        "        sumerreur=0\n",
        "        grad0=0\n",
        "        grad1=0\n",
        "        for i in indexes:\n",
        "            x0=X[i,0]\n",
        "            x1=X[i,1]\n",
        "            w0=W[0,0]\n",
        "            w1=W[1,0]\n",
        "            \n",
        "            y=Y[i,0]\n",
        "            z=x0*w0+x1*w1 #équivalent à z=X[i].dot(W) utilse si X[i] est un grand vecteur\n",
        "            prediction=z\n",
        "            grad0=derivpartielle(prediction,y,z,x0)\n",
        "            grad1=derivpartielle(prediction,y,z,x1)\n",
        "\n",
        "            W[0,0] = w0 -pas*grad0\n",
        "            W[1,0] = w1 -pas*grad1\n",
        "            \n",
        "\n",
        "            err=erreur(prediction,y)\n",
        "            sumerreur+=err\n",
        "\n",
        "        \n",
        "        print('Itération numéro ',t)\n",
        "        print('Erreur : ',sumerreur)\n",
        "    return W, sumerreur\n"
      ],
      "execution_count": 0,
      "outputs": []
    },
    {
      "metadata": {
        "id": "xzIm_sTQ67_W",
        "colab_type": "code",
        "colab": {
          "base_uri": "https://localhost:8080/",
          "height": 781
        },
        "outputId": "f42645f0-78e4-49ad-dd9b-2e680e3dbaa7"
      },
      "cell_type": "code",
      "source": [
        "W=np.zeros((2,1))\n",
        "pas=0.01\n",
        "nbiter=20\n",
        "print('Pas :',pas)\n",
        "print('Nombre itération : ',nbiter)\n",
        "W, error =gradient(X,Y,W,pas,nbiter,M)"
      ],
      "execution_count": 27,
      "outputs": [
        {
          "output_type": "stream",
          "text": [
            "Pas : 0.01\n",
            "Nombre itération :  20\n",
            "Itération numéro  0\n",
            "Erreur :  [198.42109418]\n",
            "Itération numéro  1\n",
            "Erreur :  [10.44156255]\n",
            "Itération numéro  2\n",
            "Erreur :  [9.78554002]\n",
            "Itération numéro  3\n",
            "Erreur :  [9.21527162]\n",
            "Itération numéro  4\n",
            "Erreur :  [8.67851162]\n",
            "Itération numéro  5\n",
            "Erreur :  [8.17301892]\n",
            "Itération numéro  6\n",
            "Erreur :  [7.69696943]\n",
            "Itération numéro  7\n",
            "Erreur :  [7.24864813]\n",
            "Itération numéro  8\n",
            "Erreur :  [6.82643997]\n",
            "Itération numéro  9\n",
            "Erreur :  [6.42882395]\n",
            "Itération numéro  10\n",
            "Erreur :  [6.05436765]\n",
            "Itération numéro  11\n",
            "Erreur :  [5.70172211]\n",
            "Itération numéro  12\n",
            "Erreur :  [5.36961693]\n",
            "Itération numéro  13\n",
            "Erreur :  [5.0568557]\n",
            "Itération numéro  14\n",
            "Erreur :  [4.76231171]\n",
            "Itération numéro  15\n",
            "Erreur :  [4.48492387]\n",
            "Itération numéro  16\n",
            "Erreur :  [4.22369289]\n",
            "Itération numéro  17\n",
            "Erreur :  [3.97767769]\n",
            "Itération numéro  18\n",
            "Erreur :  [3.74599201]\n",
            "Itération numéro  19\n",
            "Erreur :  [3.5278012]\n"
          ],
          "name": "stdout"
        }
      ]
    },
    {
      "metadata": {
        "id": "iP7JBAFkV5BB",
        "colab_type": "code",
        "colab": {}
      },
      "cell_type": "code",
      "source": [
        ""
      ],
      "execution_count": 0,
      "outputs": []
    }
  ]
}